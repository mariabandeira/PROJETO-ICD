{
  "nbformat": 4,
  "nbformat_minor": 0,
  "metadata": {
    "colab": {
      "provenance": [],
      "authorship_tag": "ABX9TyO4hqmIWXGEhGvchvMMu7pI",
      "include_colab_link": true
    },
    "kernelspec": {
      "name": "python3",
      "display_name": "Python 3"
    },
    "language_info": {
      "name": "python"
    }
  },
  "cells": [
    {
      "cell_type": "markdown",
      "metadata": {
        "id": "view-in-github",
        "colab_type": "text"
      },
      "source": [
        "<a href=\"https://colab.research.google.com/github/mariabandeira/PROJETO-ICD/blob/main/ED_Grafos.ipynb\" target=\"_parent\"><img src=\"https://colab.research.google.com/assets/colab-badge.svg\" alt=\"Open In Colab\"/></a>"
      ]
    },
    {
      "cell_type": "code",
      "execution_count": 20,
      "metadata": {
        "id": "_sBDvrjFgz9s"
      },
      "outputs": [],
      "source": [
        "import queue\n",
        "\n",
        "class Graph:\n",
        "    def __init__(self, n):\n",
        "        self.num_vertices = n\n",
        "        self.matrix = [[0 for _ in range(n)] for _ in range(n)]\n",
        "        self.list = [[] for _ in range(n)]\n",
        "\n",
        "\n",
        "    def print(self):\n",
        "        print(self.matrix)\n",
        "        print(self.list)\n",
        "\n",
        "\n",
        "    def bfs(self, source):\n",
        "        dist = [-1 for _ in range(self.num_vertices)]\n",
        "        ant = [-1 for _ in range(self.num_vertices)]\n",
        "        isVisited = [False for _ in range(self.num_vertices)]\n",
        "        Q = queue.Queue()\n",
        "        Q.put(source)\n",
        "        isVisited[source] = True\n",
        "        dist[source] = 0\n",
        "\n",
        "        while Q.empty() != True:\n",
        "            p = Q.get()\n",
        "            #print(\"Vertice: \" + str(p))\n",
        "\n",
        "            for v in self.list[p]:\n",
        "                if isVisited[v] == False:\n",
        "                    dist[v] = dist[p] + 1\n",
        "                    ant[v] = p\n",
        "                    Q.put(v)\n",
        "                    isVisited[v] = True\n",
        "\n",
        "        return dist, ant\n",
        "\n",
        "    def distancia(self, s, t):\n",
        "        dist = [-1 for _ in range(self.num_vertices)]\n",
        "        ant = [-1 for _ in range(self.num_vertices)]\n",
        "        isVisited = [False for _ in range(self.num_vertices)]\n",
        "        Q = queue.Queue()\n",
        "        Q.put(s)\n",
        "        isVisited[s] = True\n",
        "        dist[s] = 0\n",
        "\n",
        "        while Q.empty() != True:\n",
        "            p = Q.get()\n",
        "            #print(\"Vertice: \" + str(p))\n",
        "\n",
        "            for v in self.list[p]:\n",
        "                if isVisited[v] == False:\n",
        "                    dist[v] = dist[p] + 1\n",
        "                    ant[v] = p\n",
        "                    Q.put(v)\n",
        "                    isVisited[v] = True\n",
        "\n",
        "        if t >= len(dist):\n",
        "            return \"O vértice procurado não pertence ao grafo.\"\n",
        "        else:\n",
        "            if dist[t] == -1:\n",
        "                return \"O caminho não existe.\"\n",
        "            else:\n",
        "                return dist[t]\n",
        "\n",
        "    def dfs(self):\n",
        "        pai = [-1 for _ in range(self.num_vertices)]\n",
        "        isVisited = [False for _ in range(self.num_vertices)]\n",
        "        Q = queue.Queue()\n",
        "        #Q.put(v)\n",
        "        #isVisited[v] = True\n",
        "\n",
        "        for i in range(self.num_vertices):\n",
        "            if(isVisited[i] == False):\n",
        "                Q.put(i)\n",
        "                isVisited[i] = True\n",
        "                while Q.empty() != True:\n",
        "                    p = Q.get()\n",
        "                    #print(\"Vertice: \" + str(p))\n",
        "\n",
        "                    for u in self.list[p]:\n",
        "                        if isVisited[u] == False:\n",
        "                            Q.put(u)\n",
        "                            isVisited[u] = True\n",
        "                            pai[u] = p\n",
        "\n",
        "        return pai\n"
      ]
    },
    {
      "cell_type": "code",
      "source": [
        "# from graph import Graph\n",
        "\n",
        "def load_from(fileName):\n",
        "    f = open(fileName, 'r')\n",
        "    n = int(f.readline())\n",
        "\n",
        "    g = Graph(n)\n",
        "\n",
        "    l = 0\n",
        "    for line in f:\n",
        "        line.strip()\n",
        "        numeros = line.split(\"\\t\")\n",
        "        c = 0\n",
        "        for i in numeros:\n",
        "            if(c == g.num_vertices):\n",
        "                break\n",
        "            #print(i)\n",
        "            g.matrix[l][c] = int(i)\n",
        "            if(g.matrix[l][c] > 0):\n",
        "                g.list[l].append(c)\n",
        "\n",
        "            c += 1\n",
        "        l += 1\n",
        "    return g\n",
        "\n",
        "gr = load_from(\"/pcv10.txt\")\n",
        "gr.print()\n",
        "dist, ant = gr.bfs(3)\n",
        "distan = gr.distancia(0, 3)\n",
        "dfs = gr.dfs()\n",
        "print(dist)\n",
        "print(ant)\n",
        "print(distan)\n",
        "print(dfs)"
      ],
      "metadata": {
        "colab": {
          "base_uri": "https://localhost:8080/"
        },
        "id": "ERg4NV8799dp",
        "outputId": "7a53889e-d95a-481a-9fd3-189490124a3a"
      },
      "execution_count": 22,
      "outputs": [
        {
          "output_type": "stream",
          "name": "stdout",
          "text": [
            "[[0, 270, 0, 0, 0, 0, 0, 0, 0, 0], [270, 0, 0, 0, 0, 0, 0, 0, 0, 0], [0, 0, 0, 504, 655, 908, 1299, 0, 0, 0], [0, 0, 504, 0, 151, 423, 723, 0, 0, 0], [0, 0, 655, 151, 0, 272, 571, 1888, 0, 0], [0, 0, 908, 391, 240, 0, 241, 1560, 0, 0], [0, 0, 1299, 723, 571, 241, 0, 1617, 0, 0], [0, 0, 0, 0, 1902, 1718, 0, 0, 1274, 1510], [0, 0, 0, 0, 0, 0, 0, 1274, 0, 236], [0, 0, 0, 0, 0, 0, 0, 1470, 236, 0]]\n",
            "[[1], [0], [3, 4, 5, 6], [2, 4, 5, 6], [2, 3, 5, 6, 7], [2, 3, 4, 6, 7], [2, 3, 4, 5, 7], [4, 5, 8, 9], [7, 9], [7, 8]]\n",
            "Vertice: 0\n",
            "Vertice: 1\n",
            "Vertice: 2\n",
            "Vertice: 3\n",
            "Vertice: 4\n",
            "Vertice: 5\n",
            "Vertice: 6\n",
            "Vertice: 7\n",
            "Vertice: 8\n",
            "Vertice: 9\n",
            "[-1, -1, 1, 0, 1, 1, 1, 2, 3, 3]\n",
            "[-1, -1, 3, -1, 3, 3, 3, 4, 7, 7]\n",
            "O caminho não existe.\n",
            "[-1, 0, -1, 2, 2, 2, 2, 4, 7, 7]\n"
          ]
        }
      ]
    },
    {
      "cell_type": "code",
      "source": [
        "distan = gr.distancia(0, 3)\n",
        "print(distan)"
      ],
      "metadata": {
        "colab": {
          "base_uri": "https://localhost:8080/"
        },
        "id": "PrMCKOFkOX97",
        "outputId": "42e9aff3-0ab4-4842-eb2f-8a22bbcada9f"
      },
      "execution_count": 9,
      "outputs": [
        {
          "output_type": "stream",
          "name": "stdout",
          "text": [
            "2\n"
          ]
        }
      ]
    },
    {
      "cell_type": "code",
      "source": [
        "distan = gr.distancia(0, 4)\n",
        "print(distan)"
      ],
      "metadata": {
        "colab": {
          "base_uri": "https://localhost:8080/"
        },
        "id": "OOJhHW1gOb1j",
        "outputId": "0bc350e5-25d9-4123-b09b-c12a6fe39264"
      },
      "execution_count": 15,
      "outputs": [
        {
          "output_type": "stream",
          "name": "stdout",
          "text": [
            "O vértice procurado não pertence ao grafo.\n"
          ]
        }
      ]
    },
    {
      "cell_type": "code",
      "source": [],
      "metadata": {
        "id": "z_v2T40BOd1q"
      },
      "execution_count": null,
      "outputs": []
    }
  ]
}